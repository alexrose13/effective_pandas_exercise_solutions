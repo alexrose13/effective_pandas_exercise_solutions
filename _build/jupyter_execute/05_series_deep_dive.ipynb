{
 "cells": [
  {
   "cell_type": "markdown",
   "metadata": {},
   "source": [
    "# Chapter 5 Series Deep Dive"
   ]
  },
  {
   "cell_type": "code",
   "execution_count": 1,
   "metadata": {},
   "outputs": [],
   "source": [
    "import pandas as pd\n",
    "import warnings"
   ]
  },
  {
   "cell_type": "code",
   "execution_count": 2,
   "metadata": {},
   "outputs": [],
   "source": [
    "url = 'https://github.com/mattharrison/datasets/raw/master/data/vehicles.csv.zip'\n",
    "\n",
    "with warnings.catch_warnings(): #a quick bit of code to surpress warnings that pop up due to ambiguous data types in this dataset.\n",
    "    warnings.simplefilter(\"ignore\")\n",
    "    df = pd.read_csv(url)\n",
    "\n",
    "city_mpg = df.city08"
   ]
  },
  {
   "cell_type": "code",
   "execution_count": 3,
   "metadata": {},
   "outputs": [
    {
     "data": {
      "text/plain": [
       "0        19\n",
       "1         9\n",
       "2        23\n",
       "3        10\n",
       "4        17\n",
       "         ..\n",
       "41139    19\n",
       "41140    20\n",
       "41141    18\n",
       "41142    18\n",
       "41143    16\n",
       "Name: city08, Length: 41144, dtype: int64"
      ]
     },
     "execution_count": 3,
     "metadata": {},
     "output_type": "execute_result"
    }
   ],
   "source": [
    "city_mpg"
   ]
  },
  {
   "cell_type": "markdown",
   "metadata": {},
   "source": [
    "## Exercise 1"
   ]
  },
  {
   "cell_type": "markdown",
   "metadata": {},
   "source": [
    "> Explore the documentation for five attributes of a series from Jupyter"
   ]
  },
  {
   "cell_type": "markdown",
   "metadata": {},
   "source": [
    "This produces a rather lengthy bit of output. As such, I've truncated it here."
   ]
  },
  {
   "cell_type": "code",
   "execution_count": 4,
   "metadata": {},
   "outputs": [
    {
     "data": {
      "text/plain": [
       "['T',\n",
       " '_AXIS_LEN',\n",
       " '_AXIS_ORDERS',\n",
       " '_AXIS_REVERSED',\n",
       " '_AXIS_TO_AXIS_NUMBER',\n",
       " '_HANDLED_TYPES',\n",
       " '__abs__',\n",
       " '__add__',\n",
       " '__and__',\n",
       " '__annotations__',\n",
       " '__array__',\n",
       " '__array_priority__',\n",
       " '__array_ufunc__',\n",
       " '__array_wrap__',\n",
       " '__bool__',\n",
       " '__class__',\n",
       " '__contains__',\n",
       " '__copy__',\n",
       " '__deepcopy__',\n",
       " '__delattr__']"
      ]
     },
     "execution_count": 4,
     "metadata": {},
     "output_type": "execute_result"
    }
   ],
   "source": [
    "dir(city_mpg)[:20]"
   ]
  },
  {
   "cell_type": "markdown",
   "metadata": {},
   "source": [
    "I chose somewhat arbitrarily to look at:\n",
    " * [`to_dict`](https://pandas.pydata.org/docs/reference/api/pandas.DataFrame.to_dict.html)\n",
    " * [`is_monotonic`](https://pandas.pydata.org/docs/reference/api/pandas.Series.is_monotonic.html)\n",
    " * [`resample`](https://pandas.pydata.org/docs/reference/api/pandas.Series.resample.html)"
   ]
  },
  {
   "cell_type": "markdown",
   "metadata": {},
   "source": [
    "## Exercise 2"
   ]
  },
  {
   "cell_type": "markdown",
   "metadata": {},
   "source": [
    "> How many attributes are found on the .str attribute? Look at the documentation for three of them."
   ]
  },
  {
   "cell_type": "code",
   "execution_count": 5,
   "metadata": {},
   "outputs": [
    {
     "name": "stdout",
     "output_type": "stream",
     "text": [
      "There are 97 attributes foiund on the .str attribute\n"
     ]
    }
   ],
   "source": [
    "s_str = pd.Series(['a','b','c'])\n",
    "\n",
    "n_attributes = len(dir(s_str.str))\n",
    "\n",
    "print('There are {} attributes foiund on the .str attribute'.format(n_attributes))"
   ]
  },
  {
   "cell_type": "markdown",
   "metadata": {},
   "source": [
    "I chose somewhat arbitrarily to review the following:\n",
    " * [`str.lower()`](https://pandas.pydata.org/docs/reference/api/pandas.Series.str.lower.html)\n",
    " * [`str.lstrip()`](https://pandas.pydata.org/docs/reference/api/pandas.Series.str.lstrip.html)\n",
    " * [`str.find()`](https://pandas.pydata.org/docs/reference/api/pandas.Series.str.find.html)"
   ]
  },
  {
   "cell_type": "markdown",
   "metadata": {},
   "source": [
    "## Exercise 3"
   ]
  },
  {
   "cell_type": "markdown",
   "metadata": {},
   "source": [
    "> How many attributes are found on the .dt attribute? Look at the documentation for three of them."
   ]
  },
  {
   "cell_type": "code",
   "execution_count": 6,
   "metadata": {},
   "outputs": [
    {
     "name": "stdout",
     "output_type": "stream",
     "text": [
      "There are 83 attributes foiund on the .dt attribute\n"
     ]
    }
   ],
   "source": [
    "s_ts = pd.to_datetime(pd.Series(['2022-01-01','2022-01-02','2022-01-03']))\n",
    "\n",
    "n_attributes = len(dir(s_ts.dt))\n",
    "\n",
    "print('There are {} attributes foiund on the .dt attribute'.format(n_attributes))"
   ]
  },
  {
   "cell_type": "markdown",
   "metadata": {},
   "source": [
    "Once more, I chose somewhat arbitrarily to review the following:\n",
    " * [`dt.date`](https://pandas.pydata.org/docs/reference/api/pandas.Series.dt.date.html)\n",
    " * [`dt.days_in_month`](https://pandas.pydata.org/docs/reference/api/pandas.Series.dt.days_in_month.html)\n",
    " * [`dt.tz`](https://pandas.pydata.org/docs/reference/api/pandas.Series.dt.tz.html)"
   ]
  }
 ],
 "metadata": {
  "interpreter": {
   "hash": "006b2a4c59105e151f59d7a783e9669671dc3b315a85df72952575de8c58cde6"
  },
  "kernelspec": {
   "display_name": "Python 3.9.7 ('base')",
   "language": "python",
   "name": "python3"
  },
  "language_info": {
   "codemirror_mode": {
    "name": "ipython",
    "version": 3
   },
   "file_extension": ".py",
   "mimetype": "text/x-python",
   "name": "python",
   "nbconvert_exporter": "python",
   "pygments_lexer": "ipython3",
   "version": "3.9.7"
  }
 },
 "nbformat": 4,
 "nbformat_minor": 2
}