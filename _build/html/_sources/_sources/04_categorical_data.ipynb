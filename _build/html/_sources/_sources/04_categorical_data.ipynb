{
 "cells": [
  {
   "cell_type": "markdown",
   "metadata": {},
   "source": [
    "# Chapter 4 Categorical Data"
   ]
  },
  {
   "cell_type": "code",
   "execution_count": 2,
   "metadata": {},
   "outputs": [],
   "source": [
    "import pandas as pd"
   ]
  },
  {
   "cell_type": "markdown",
   "metadata": {},
   "source": [
    "## Exercise 1"
   ]
  },
  {
   "cell_type": "markdown",
   "metadata": {},
   "source": [
    "> Using Jupyter,  create a series with the temperature values for the last seven days. Filter out the values below the Mean"
   ]
  },
  {
   "cell_type": "markdown",
   "metadata": {},
   "source": [
    "The [US National Weather Service](https://www.weather.gov) has some basic charts and data that are readily available. I'll use the page dedicated to [Salt Lake City](https://www.weather.gov/slc/Cliplot)—the capital of my state—and manually transcribe some data there."
   ]
  },
  {
   "cell_type": "code",
   "execution_count": 3,
   "metadata": {},
   "outputs": [],
   "source": [
    "#creating a series with temperature values from the last seven days\n",
    "slc_temps_hi = pd.Series(\n",
    "    [34, 40, 46, 55, 56, 55, 47],\n",
    "    name = 'slc_temps_hi'\n",
    ")"
   ]
  },
  {
   "cell_type": "code",
   "execution_count": 6,
   "metadata": {},
   "outputs": [
    {
     "data": {
      "text/plain": [
       "0    False\n",
       "1    False\n",
       "2    False\n",
       "3     True\n",
       "4     True\n",
       "5     True\n",
       "6    False\n",
       "Name: slc_temps_hi, dtype: bool"
      ]
     },
     "execution_count": 6,
     "metadata": {},
     "output_type": "execute_result"
    }
   ],
   "source": [
    "#creating a boolean array to use as a filtration mask\n",
    "mask = slc_temps_hi > slc_temps_hi.mean()\n",
    "\n",
    "#we'll display the bool array for good measure\n",
    "mask"
   ]
  },
  {
   "cell_type": "code",
   "execution_count": 7,
   "metadata": {},
   "outputs": [
    {
     "data": {
      "text/plain": [
       "3    55\n",
       "4    56\n",
       "5    55\n",
       "Name: slc_temps_hi, dtype: int64"
      ]
     },
     "execution_count": 7,
     "metadata": {},
     "output_type": "execute_result"
    }
   ],
   "source": [
    "#now we'll use the mask as a filter to display only values from `slc_temps_hi` that are above the average value of the series\n",
    "slc_temps_hi[mask]"
   ]
  },
  {
   "cell_type": "markdown",
   "metadata": {},
   "source": [
    "## Exercise 2"
   ]
  },
  {
   "cell_type": "markdown",
   "metadata": {},
   "source": [
    "> Using Jupyter, create a series with your favorite colors. Use the categorical type."
   ]
  },
  {
   "cell_type": "markdown",
   "metadata": {},
   "source": [
    "I've always been partial to purple, black, red, and pink. I'll build a series to reflect that. Note that there are (at least) two very simple ways to to do this. I'll include both methods below."
   ]
  },
  {
   "cell_type": "code",
   "execution_count": 8,
   "metadata": {},
   "outputs": [
    {
     "data": {
      "text/plain": [
       "0    purple\n",
       "1     black\n",
       "2       red\n",
       "3      pink\n",
       "Name: favorite_colors, dtype: category\n",
       "Categories (4, object): ['black', 'pink', 'purple', 'red']"
      ]
     },
     "execution_count": 8,
     "metadata": {},
     "output_type": "execute_result"
    }
   ],
   "source": [
    "#method 1\n",
    "fav_colors = pd.Series(\n",
    "    ['purple', 'black', 'red', 'pink'],\n",
    "    name = 'favorite_colors',\n",
    "    dtype='category'\n",
    ")\n",
    "\n",
    "fav_colors"
   ]
  },
  {
   "cell_type": "code",
   "execution_count": 9,
   "metadata": {},
   "outputs": [
    {
     "data": {
      "text/plain": [
       "0    purple\n",
       "1     black\n",
       "2       red\n",
       "3      pink\n",
       "Name: favorite_colors, dtype: category\n",
       "Categories (4, object): ['black', 'pink', 'purple', 'red']"
      ]
     },
     "execution_count": 9,
     "metadata": {},
     "output_type": "execute_result"
    }
   ],
   "source": [
    "#method 2\n",
    "fav_colors2 = pd.Series(\n",
    "    ['purple', 'black', 'red', 'pink'],\n",
    "    name = 'favorite_colors'\n",
    ").astype('category')\n",
    "\n",
    "fav_colors2"
   ]
  }
 ],
 "metadata": {
  "interpreter": {
   "hash": "006b2a4c59105e151f59d7a783e9669671dc3b315a85df72952575de8c58cde6"
  },
  "kernelspec": {
   "display_name": "Python 3.9.7 ('base')",
   "language": "python",
   "name": "python3"
  },
  "language_info": {
   "codemirror_mode": {
    "name": "ipython",
    "version": 3
   },
   "file_extension": ".py",
   "mimetype": "text/x-python",
   "name": "python",
   "nbconvert_exporter": "python",
   "pygments_lexer": "ipython3",
   "version": "3.9.7"
  },
  "orig_nbformat": 4
 },
 "nbformat": 4,
 "nbformat_minor": 2
}
